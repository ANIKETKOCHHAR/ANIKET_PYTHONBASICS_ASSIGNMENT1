{
 "cells": [
  {
   "cell_type": "raw",
   "id": "44b6e21d-34b1-41a1-97c4-5c3cce41def7",
   "metadata": {},
   "source": [
    "1 Task to creatw a new text file and write few lines in it"
   ]
  },
  {
   "cell_type": "code",
   "execution_count": 2,
   "id": "10c3a570-0b63-445a-b591-9099ac5e2ce3",
   "metadata": {},
   "outputs": [],
   "source": [
    "file = open(\"file.txt\",\"w\")\n",
    "file.write(\"heelloo PW SKILLS \")\n",
    "file.close()\n",
    "# you can open the new file created named file.txt the text will be available there"
   ]
  },
  {
   "cell_type": "raw",
   "id": "3c289189-3fed-40d4-b0c7-a18e1765ca8e",
   "metadata": {},
   "source": [
    "2 Open and read the content of the file you just created"
   ]
  },
  {
   "cell_type": "code",
   "execution_count": 3,
   "id": "5588330c-ff1a-4ab5-b131-c4c0fc71a03b",
   "metadata": {},
   "outputs": [
    {
     "name": "stdout",
     "output_type": "stream",
     "text": [
      "heelloo PW SKILLS \n"
     ]
    }
   ],
   "source": [
    "file = open(\"file.txt\",\"r\")\n",
    "content = file.read()\n",
    "print(content)\n",
    "file.close()"
   ]
  },
  {
   "cell_type": "raw",
   "id": "d81749a2-689a-4384-86cf-1e8d5577b31d",
   "metadata": {},
   "source": [
    "3 Add aditional content to the existing file without deleting the existing content"
   ]
  },
  {
   "cell_type": "code",
   "execution_count": 4,
   "id": "0df94200-a041-4e32-a333-9c9ec15e4ba2",
   "metadata": {},
   "outputs": [],
   "source": [
    "file = open(\"file.txt\",\"a\")\n",
    "file.write(\"\\n hello PW SKILLS this is the content of the third task\")\n",
    "file.close()"
   ]
  },
  {
   "cell_type": "raw",
   "id": "3c6ef7ec-1a27-43c5-9323-ed94fa73e634",
   "metadata": {},
   "source": [
    "4 Read and print each line from the file one by one"
   ]
  },
  {
   "cell_type": "code",
   "execution_count": 7,
   "id": "75d6e23a-c176-4b15-a455-5316b9032a04",
   "metadata": {},
   "outputs": [
    {
     "name": "stdout",
     "output_type": "stream",
     "text": [
      "heelloo PW SKILLS \n",
      "\n",
      " hello PW SKILLS this is the content of the third task\n"
     ]
    }
   ],
   "source": [
    "with open('file.txt', 'r') as f:\n",
    "    for line in f:\n",
    "        print(line)"
   ]
  },
  {
   "cell_type": "raw",
   "id": "9e143d90-3a3e-4e79-a5f5-f7dbe90e4973",
   "metadata": {},
   "source": [
    "5 Write the contents of a list to a file with each item to a new line"
   ]
  },
  {
   "cell_type": "code",
   "execution_count": 13,
   "id": "4aeaadcb-1f05-47d6-90b3-2eb897a52804",
   "metadata": {},
   "outputs": [],
   "source": [
    "list1 = [\"hi\",\"P\",\"W\",\"Skills\"]\n",
    "file = open(\"task5.txt\",\"w\")\n",
    "for i in list1:\n",
    "    with open(\"task5.txt\",\"a\") as f:\n",
    "        f.write(\"\\n\"+i)"
   ]
  },
  {
   "cell_type": "raw",
   "id": "2f89429d-2b37-4c11-bd5d-4fa02ab92392",
   "metadata": {},
   "source": [
    "6 Read the file conetnt to a list where each line is an element of a list"
   ]
  },
  {
   "cell_type": "code",
   "execution_count": 16,
   "id": "2b58c4ab-de6c-4946-8438-b057032fcfea",
   "metadata": {},
   "outputs": [
    {
     "name": "stdout",
     "output_type": "stream",
     "text": [
      "['hi\\n', 'P\\n', 'W\\n', 'Skills']\n"
     ]
    }
   ],
   "source": [
    "list2 = []\n",
    "with open('task5.txt', 'r') as f:\n",
    "    for line in f:\n",
    "        list2.append(line)\n",
    "    print(list2)"
   ]
  },
  {
   "cell_type": "raw",
   "id": "4301ed4a-923e-4a95-aa57-35ad8280536c",
   "metadata": {},
   "source": [
    "7 Count the total number of words in a file "
   ]
  },
  {
   "cell_type": "code",
   "execution_count": 18,
   "id": "3a002e86-63a4-4c0c-8fd9-bf7748e10dec",
   "metadata": {},
   "outputs": [
    {
     "name": "stdout",
     "output_type": "stream",
     "text": [
      "14\n"
     ]
    }
   ],
   "source": [
    "with open('file.txt', 'r') as file:\n",
    "    text = file.read()\n",
    "    words = text.split()\n",
    "    print(len(words))"
   ]
  },
  {
   "cell_type": "code",
   "execution_count": null,
   "id": "505dec31-3b7d-48f8-be20-170ece0e0e1c",
   "metadata": {},
   "outputs": [],
   "source": [
    "8 Copyy the contents of a file to another file"
   ]
  },
  {
   "cell_type": "code",
   "execution_count": 31,
   "id": "d71f2c7e-aabd-4bde-b43f-ff660180a97f",
   "metadata": {},
   "outputs": [
    {
     "data": {
      "text/plain": [
       "'task8.txt'"
      ]
     },
     "execution_count": 31,
     "metadata": {},
     "output_type": "execute_result"
    }
   ],
   "source": [
    "import shutil    \n",
    "with open(\"task8.txt\",\"w\") as f:\n",
    "    pass\n",
    "source_file = \"task5.txt\"\n",
    "destination_file = \"task8.txt\"\n",
    "shutil.copy(source_file,destination_file)"
   ]
  },
  {
   "cell_type": "raw",
   "id": "de8d0cbc-08b2-42ae-adab-ef5d2f5cfc81",
   "metadata": {},
   "source": [
    "9 Check if a file exists before attemting to read"
   ]
  },
  {
   "cell_type": "code",
   "execution_count": 33,
   "id": "9e16747c-8e14-49cf-97a5-5b0059d2b37e",
   "metadata": {},
   "outputs": [
    {
     "name": "stdout",
     "output_type": "stream",
     "text": [
      "hi\n",
      "P\n",
      "W\n",
      "Skills\n",
      "File exists and the content is read\n"
     ]
    }
   ],
   "source": [
    "import os\n",
    "# Check if the source file exists\n",
    "if os.path.exists(\"task5.txt\"):\n",
    "    try:\n",
    "        with open(\"task5.txt\",\"r\") as f:\n",
    "            print(f.read())\n",
    "        print(\"File exists and the content is read\")\n",
    "    except Exception as e:\n",
    "        print(f\"An error occurred: {e}\")\n",
    "else:\n",
    "    print(\"file not found.\")"
   ]
  },
  {
   "cell_type": "code",
   "execution_count": null,
   "id": "8b4e6291-5133-4317-aae9-cb9a83d87031",
   "metadata": {},
   "outputs": [],
   "source": [
    "10 Delete a file using python"
   ]
  },
  {
   "cell_type": "code",
   "execution_count": 39,
   "id": "211a6503-9f8b-460d-b651-3050c49e9e57",
   "metadata": {},
   "outputs": [],
   "source": [
    "with open(\"task10.txt\",\"w\") as f:\n",
    "    f.write(\"PW\")\n",
    "\n",
    "    # please implement this code first to make a new file "
   ]
  },
  {
   "cell_type": "code",
   "execution_count": 40,
   "id": "04f069cf-089e-4604-9b41-76685b077a09",
   "metadata": {},
   "outputs": [],
   "source": [
    "import os\n",
    "\n",
    "file_path = os.path.abspath(\"task10.txt\")\n",
    "os.remove(file_path)\n",
    "\n",
    "# now implement this code to delete the file"
   ]
  },
  {
   "cell_type": "code",
   "execution_count": null,
   "id": "fdc90968-3268-41d7-b3fe-e02294235885",
   "metadata": {},
   "outputs": [],
   "source": []
  }
 ],
 "metadata": {
  "kernelspec": {
   "display_name": "Python 3 (ipykernel)",
   "language": "python",
   "name": "python3"
  },
  "language_info": {
   "codemirror_mode": {
    "name": "ipython",
    "version": 3
   },
   "file_extension": ".py",
   "mimetype": "text/x-python",
   "name": "python",
   "nbconvert_exporter": "python",
   "pygments_lexer": "ipython3",
   "version": "3.10.8"
  }
 },
 "nbformat": 4,
 "nbformat_minor": 5
}
