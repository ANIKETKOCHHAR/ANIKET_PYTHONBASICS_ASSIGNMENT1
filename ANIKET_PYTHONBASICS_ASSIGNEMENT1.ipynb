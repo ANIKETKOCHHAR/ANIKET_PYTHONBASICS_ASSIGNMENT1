{
 "cells": [
  {
   "cell_type": "raw",
   "id": "d3ebdb3a-3d15-46f7-a03e-92d5abf38501",
   "metadata": {},
   "source": [
    "1) Explain the key features of  python that makes it a popular chouce of programming\n",
    "=> SIMPLICITY: Python is a high level language yet very simple to learn due to its simple syntax, few keywords and     straightforward structure.\n",
    "   READABILITY: Python code looks like simmple english and with intendation and very less or no use of brackets and     semicolumns makes it very easy to read and understand just by lookimg at it.\n",
    "   DYNAMICALLY TYPED: Python doesn't require to define variable types making coding faster unlike other object oriented languages.\n",
    "   CROSS PLATFORM COMPATIBILITY: Same python code can run on different platforms/OS like mac,linux,windows.\n",
    "   "
   ]
  },
  {
   "cell_type": "raw",
   "id": "29a9ff9d-85b4-4342-b4d5-a4d025239167",
   "metadata": {},
   "source": [
    "2) Describe the role of predefined keywords in Python and provide examples of how they are used in a program.\n",
    "=> Python has a set of keywords that are reserved words that cannot be used as variable names, function names, or any other identifiers.A Python keyword is a predefined word that serves a specific function in Python. \n",
    "Some list of python keywords are:\n",
    "1 and\t\n",
    "2 as\t\n",
    "3 assert\t\n",
    "4 break\t\n",
    "5 class\t\n",
    "6 continue\t\n",
    "7 def\t\n",
    "8 del\t\n",
    "9 elif\t\n",
    "10 else\t\n",
    "11 except\n",
    "and many more\n",
    "An example of if and else keyword is shown below:"
   ]
  },
  {
   "cell_type": "code",
   "execution_count": 1,
   "id": "b4c5263f-1580-4563-8d0c-1b65267936db",
   "metadata": {},
   "outputs": [
    {
     "name": "stdin",
     "output_type": "stream",
     "text": [
      "enter the number u want to check: 58\n"
     ]
    },
    {
     "name": "stdout",
     "output_type": "stream",
     "text": [
      "the number is even!!\n"
     ]
    }
   ],
   "source": [
    "num=input(\"enter the number u want to check:\")\n",
    "num=int(num)\n",
    "# num=89\n",
    "if num % 2 == 0:\n",
    "    print(\"the number is even!!\")\n",
    "else:\n",
    "    print(\"the number is odd!!\")"
   ]
  },
  {
   "cell_type": "raw",
   "id": "6429ae42-6f92-4399-9841-c7c92b3dc2c0",
   "metadata": {},
   "source": [
    "3) Compare and contrast mutable and immutable objects in python with examples\n",
    "=>   MUTABLE OBJECTS: Anything is said to be mutable when anything can be modified or changed. The term \"mutable\" in Python     refers to an object's capacity to modify its values. example - Lists\n",
    "     IMMUTABLE OBJECTS: ImmutaBle refers to a state in which no change can occur over time . A Python object is referred to as immutable if we cannot change its value over the time. example - tupple"
   ]
  },
  {
   "cell_type": "code",
   "execution_count": 2,
   "id": "b85e9fea-481d-41ef-9c79-2dcf9429ff9e",
   "metadata": {},
   "outputs": [
    {
     "name": "stdout",
     "output_type": "stream",
     "text": [
      "[1, 8, 3, 4, 5]\n"
     ]
    }
   ],
   "source": [
    "#example for mutable object i.e list\n",
    "list_1 = [ 1,2,3,4,5]\n",
    "list_1[1] = 8\n",
    "print(list_1)"
   ]
  },
  {
   "cell_type": "code",
   "execution_count": 3,
   "id": "1c247905-8851-4099-8759-04d6621fc1ae",
   "metadata": {},
   "outputs": [
    {
     "ename": "TypeError",
     "evalue": "'tuple' object does not support item assignment",
     "output_type": "error",
     "traceback": [
      "\u001b[0;31m---------------------------------------------------------------------------\u001b[0m",
      "\u001b[0;31mTypeError\u001b[0m                                 Traceback (most recent call last)",
      "Cell \u001b[0;32mIn[3], line 3\u001b[0m\n\u001b[1;32m      1\u001b[0m \u001b[38;5;66;03m# example of immutable object i.e. Tupple\u001b[39;00m\n\u001b[1;32m      2\u001b[0m tuple1 \u001b[38;5;241m=\u001b[39m (\u001b[38;5;241m1\u001b[39m, \u001b[38;5;241m1\u001b[39m, \u001b[38;5;241m2\u001b[39m, \u001b[38;5;241m3\u001b[39m) \n\u001b[0;32m----> 3\u001b[0m \u001b[43mtuple1\u001b[49m\u001b[43m[\u001b[49m\u001b[38;5;241;43m0\u001b[39;49m\u001b[43m]\u001b[49m \u001b[38;5;241m=\u001b[39m \u001b[38;5;241m4\u001b[39m\n\u001b[1;32m      4\u001b[0m \u001b[38;5;28mprint\u001b[39m(tuple1) \n",
      "\u001b[0;31mTypeError\u001b[0m: 'tuple' object does not support item assignment"
     ]
    }
   ],
   "source": [
    "# example of immutable object i.e. Tupple\n",
    "tuple_1 = (1, 1, 2, 3) \n",
    "tuple_1[1] = 4\n",
    "print(tuple_1) "
   ]
  },
  {
   "cell_type": "raw",
   "id": "61074e27-3d83-4f60-967c-e75296df83cb",
   "metadata": {},
   "source": [
    "4) Discuss different types of operators in Python and provide examples of how they are used\n",
    "=> Operators are in general used to perform operations on variables and values.These are standard symbols used for logical and arithmetic operations.\n",
    "\n",
    "OPERATORS=> These are the special symbols. Eg- + , * , /, etc.\n",
    "OPERANDS => It is the value on which the operator is applied.\n",
    "\n",
    "Let's see few operators with examples:-"
   ]
  },
  {
   "cell_type": "code",
   "execution_count": 1,
   "id": "a8590f9e-cb8a-46cb-ab97-31bcd74d7d54",
   "metadata": {},
   "outputs": [
    {
     "name": "stdout",
     "output_type": "stream",
     "text": [
      "7\n",
      "-3\n",
      "10\n",
      "2\n",
      "32\n"
     ]
    }
   ],
   "source": [
    "#ARITHMETIC OPERATORS:-\n",
    "a = 2\n",
    "b = 5\n",
    "Add = a + b\n",
    "\n",
    "Sub = a - b\n",
    "\n",
    "Mult = a * b\n",
    "\n",
    "Mods = a % b\n",
    "\n",
    "P = a ** b\n",
    "print(Add)\n",
    "print(Sub)\n",
    "print(Mult)\n",
    "print(Mods)\n",
    "print(P)"
   ]
  },
  {
   "cell_type": "code",
   "execution_count": 3,
   "id": "491aa142-5f65-4a90-9036-02f5442ead1c",
   "metadata": {},
   "outputs": [
    {
     "name": "stdout",
     "output_type": "stream",
     "text": [
      "True\n",
      "False\n",
      "True\n"
     ]
    }
   ],
   "source": [
    "#LOGICAL OPERATORS:-\n",
    "a = False\n",
    "b = True\n",
    "print(a or b)\n",
    "print(a and b)\n",
    "print(not a)"
   ]
  },
  {
   "cell_type": "raw",
   "id": "8decb863-1b15-46bf-920f-ff9fc9fc32d3",
   "metadata": {},
   "source": [
    "5) Explain the concept of type casting in python with examples\n",
    "=> Type Casting is the method to convert the Python variable datatype into a certain data type in order to perform the required operation.\n",
    "\n",
    "IMPLICIT: When python automatically converts the data type of a variable without user involvement.\n",
    "EXPLICIT: When python converts the data type of a variable with user involvement using puthon functions."
   ]
  },
  {
   "cell_type": "code",
   "execution_count": 4,
   "id": "226e4dc1-ae5e-4f4a-afe1-5ae6a137a78c",
   "metadata": {},
   "outputs": [
    {
     "name": "stdout",
     "output_type": "stream",
     "text": [
      "<class 'int'>\n",
      "<class 'float'>\n"
     ]
    }
   ],
   "source": [
    "# IMPLICIT TYPECASTIING\n",
    "a=5\n",
    "print(type(a))\n",
    "\n",
    "b= 4.0\n",
    "print(type(b))\n"
   ]
  },
  {
   "cell_type": "code",
   "execution_count": 6,
   "id": "017451d9-b1c4-4bf7-8960-6556e66eb15e",
   "metadata": {},
   "outputs": [
    {
     "name": "stdout",
     "output_type": "stream",
     "text": [
      "<class 'int'>\n",
      "<class 'float'>\n"
     ]
    }
   ],
   "source": [
    "#EXPLICIT TTYPECASTING\n",
    "a=5\n",
    "print(type(a))\n",
    "\n",
    "n=float(a)\n",
    "print(type(n))\n",
    "\n"
   ]
  },
  {
   "cell_type": "raw",
   "id": "b88b0bab-f1f6-40d6-b1c2-94058d549003",
   "metadata": {},
   "source": [
    "6) How to conditional statements work in python illustrate with examples\n",
    "=> Conditional statements works on a simple logic i.e. If the condition is true, the if block code is executed and if the condition is false, the else block code is executed.\n",
    "\n",
    "Let's see an example of If else statement:-"
   ]
  },
  {
   "cell_type": "code",
   "execution_count": 7,
   "id": "1afe1d4b-e2c4-42f6-a765-ecbae213254d",
   "metadata": {},
   "outputs": [
    {
     "name": "stdout",
     "output_type": "stream",
     "text": [
      "the number you entered is even!!\n"
     ]
    }
   ],
   "source": [
    "n=12\n",
    "if n%2 == 0:\n",
    "    print(\"the number you entered is even!!\")\n",
    "else:\n",
    "    print(\"the number you entered is odd!!\")"
   ]
  },
  {
   "cell_type": "raw",
   "id": "8bc6f345-9d33-4c63-9035-4c4dba9b8050",
   "metadata": {},
   "source": [
    "7) Describe different types of loops in Python and their use case with examples\n",
    "=> There are 2 types of loops that python offers:-\n",
    "        1. FOR LOOP: For loop works more in a sequential way\n",
    "        2. WHILE LOOP: Where as while loop keeps on repeatedly execute yhe block of code untill the situation is satisfied.\n",
    " Let's understand with examples"
   ]
  },
  {
   "cell_type": "code",
   "execution_count": 9,
   "id": "ce4fb455-c093-43f3-b85a-4bfd31f4842d",
   "metadata": {},
   "outputs": [
    {
     "name": "stdout",
     "output_type": "stream",
     "text": [
      "@ @ @ \n",
      "@ @ @ \n",
      "@ @ @ \n"
     ]
    }
   ],
   "source": [
    "# FOR LOOP EXAMPLE\n",
    "k=0\n",
    "l=0\n",
    "for k in range(3):\n",
    "    for l in range(3):\n",
    "        print(\"@\",end=\" \")\n",
    "    print()"
   ]
  },
  {
   "cell_type": "code",
   "execution_count": 10,
   "id": "5a2e74ac-ac97-4062-800a-97535a6b1170",
   "metadata": {},
   "outputs": [
    {
     "name": "stdout",
     "output_type": "stream",
     "text": [
      "*\n",
      "**\n",
      "***\n",
      "****\n"
     ]
    }
   ],
   "source": [
    "# WHILE LOOP EXAMPLE\n",
    "row=0\n",
    "while row<4:\n",
    "    col=0\n",
    "    while col<=row:\n",
    "        print(\"*\",end=\"\")\n",
    "        col=col+1\n",
    "    print()\n",
    "    row=row+1"
   ]
  }
 ],
 "metadata": {
  "kernelspec": {
   "display_name": "Python 3 (ipykernel)",
   "language": "python",
   "name": "python3"
  },
  "language_info": {
   "codemirror_mode": {
    "name": "ipython",
    "version": 3
   },
   "file_extension": ".py",
   "mimetype": "text/x-python",
   "name": "python",
   "nbconvert_exporter": "python",
   "pygments_lexer": "ipython3",
   "version": "3.10.8"
  }
 },
 "nbformat": 4,
 "nbformat_minor": 5
}
