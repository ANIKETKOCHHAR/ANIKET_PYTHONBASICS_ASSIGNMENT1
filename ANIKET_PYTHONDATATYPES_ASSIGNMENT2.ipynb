{
 "cells": [
  {
   "cell_type": "raw",
   "id": "6b751614-2a5a-4f39-9400-91bc0c153fdf",
   "metadata": {},
   "source": [
    "1) Discuss the string slicing with examples.\n",
    "=> Python String slicing is a way of creating a sub-string from a given string. In this process, we extract a portion or piece of a string.\n",
    "Lets discuss it with some examples:-"
   ]
  },
  {
   "cell_type": "code",
   "execution_count": 3,
   "id": "ddcc39c9-5662-4a9f-aec0-fc78debc95ea",
   "metadata": {},
   "outputs": [
    {
     "name": "stdout",
     "output_type": "stream",
     "text": [
      "var: Hello PHYSICS WALLAH\n",
      "var[3:8]: lo PH\n",
      "var[0:]: Hello PHYSICS WALLAH\n",
      "var[:-1]: Hello PHYSICS WALLA\n",
      "var[-1:]: H\n"
     ]
    }
   ],
   "source": [
    "#String slicing\n",
    "var=\"Hello PHYSICS WALLAH\"\n",
    "\n",
    "print (\"var:\",var)\n",
    "print (\"var[3:8]:\", var[3:8])\n",
    "print (\"var[0:]:\", var[0:])\n",
    "print (\"var[:-1]:\", var[:-1])# negative index\n",
    "print (\"var[-1:]:\", var[-1:])"
   ]
  },
  {
   "cell_type": "raw",
   "id": "1b9a94ec-843c-4887-b914-5cefbb84df9d",
   "metadata": {},
   "source": [
    "2) Explain the key features of lists in Python.\n",
    "=> Few key features of lists are :-\n",
    "        DYNAMIC: We can add or delete as many elements in list at any time.\n",
    "        ORDERED: All elements in a list always maintain their order.\n",
    "        HETEROGENEOUS: List can contain different type of data types in them (int,string,float etc.)\n",
    "        MUTABLE: Lists are mutable in nature they can be changed after they are created.\n",
    "        INDEXABLE: Lists can be accessed using index."
   ]
  },
  {
   "cell_type": "raw",
   "id": "8432c774-fc06-451c-b5e9-350ae1cf84f3",
   "metadata": {},
   "source": [
    "3) Describe how to access,modify and delete elements in lists with examples.\n",
    "=> Lets understand this withe examples:-"
   ]
  },
  {
   "cell_type": "code",
   "execution_count": 4,
   "id": "54837922-37ff-4107-a7ed-0fb71ca6ed10",
   "metadata": {},
   "outputs": [
    {
     "data": {
      "text/plain": [
       "'ghi'"
      ]
     },
     "execution_count": 4,
     "metadata": {},
     "output_type": "execute_result"
    }
   ],
   "source": [
    "#Accessing a list in python:\n",
    "lists = [\"abc\",\"def\",\"ghi\",\"jkl\"]\n",
    "print(lists[2])"
   ]
  },
  {
   "cell_type": "code",
   "execution_count": 12,
   "id": "2545b5e6-da4c-4384-85ce-d6630ae5cbfb",
   "metadata": {},
   "outputs": [
    {
     "name": "stdout",
     "output_type": "stream",
     "text": [
      "['abc', 'ghi', 'jkl']\n"
     ]
    }
   ],
   "source": [
    "# Delete an item from the list\n",
    "lists = [\"abc\",\"def\",\"ghi\",\"jkl\"]\n",
    "lists.pop()\n",
    "\n",
    "#or\n",
    "\n",
    "lists.remove(\"abc\")\n",
    "print(lists)\n",
    "\n",
    "#or\n",
    "\n",
    "del lists[1]\n",
    "print(lists)\n",
    "## we can use any of the method to delete an item in lists"
   ]
  },
  {
   "cell_type": "code",
   "execution_count": 13,
   "id": "dad9fdc1-7380-4178-91d4-a16e2e8c2a54",
   "metadata": {},
   "outputs": [
    {
     "name": "stdout",
     "output_type": "stream",
     "text": [
      "['abc', 'mno', 'ghi', 'jkl']\n"
     ]
    }
   ],
   "source": [
    "# Modify an item in list\n",
    "lists = [\"abc\",\"def\",\"ghi\",\"jkl\"]\n",
    "lists[1]=\"mno\"   # modifying the the number one index element of the list\n",
    "print(lists)"
   ]
  },
  {
   "cell_type": "raw",
   "id": "84de2075-05ed-44e1-8662-3a354340e1d1",
   "metadata": {},
   "source": [
    "4) Compare and contrast tuples and lists with examples.\n",
    "=>           TUPLES                                  |                            LISTS\n",
    "    1. Tuple are immutable                           |  1. Lists are mutable\n",
    "    2. Doesn't support item assignement              |  2. Supports item assignment\n",
    "    3. Tuples are fast compares to lists due to      |  3. Lists are slow compared to tuple\n",
    "       immutability                                  |\n",
    "    4. Tuple takes less memory compared to lists     |  4. Lists take more memory compared to tuple"
   ]
  },
  {
   "cell_type": "code",
   "execution_count": 15,
   "id": "767da0bf-77d8-4d9d-978e-86b0406b801f",
   "metadata": {},
   "outputs": [
    {
     "ename": "SyntaxError",
     "evalue": "cannot assign to function call here. Maybe you meant '==' instead of '='? (57345620.py, line 3)",
     "output_type": "error",
     "traceback": [
      "\u001b[0;36m  Cell \u001b[0;32mIn[15], line 3\u001b[0;36m\u001b[0m\n\u001b[0;31m    tuples(2)=56\u001b[0m\n\u001b[0m    ^\u001b[0m\n\u001b[0;31mSyntaxError\u001b[0m\u001b[0;31m:\u001b[0m cannot assign to function call here. Maybe you meant '==' instead of '='?\n"
     ]
    }
   ],
   "source": [
    "# Tuples are immutable example:-\n",
    "tuples = (1,2,3,4,5,7)\n",
    "tuples(2)=56\n",
    "print(tupples)"
   ]
  },
  {
   "cell_type": "code",
   "execution_count": 16,
   "id": "02195462-ea92-4da5-9672-b2c7d7191420",
   "metadata": {},
   "outputs": [
    {
     "name": "stdout",
     "output_type": "stream",
     "text": [
      "[1, 56, 3, 4, 5, 6, 7]\n"
     ]
    }
   ],
   "source": [
    "#lists are mutable:-\n",
    "lists1=[1,2,3,4,5,6,7]\n",
    "lists1[1]= 56\n",
    "print(lists1)"
   ]
  },
  {
   "cell_type": "raw",
   "id": "dfc8374a-32ab-46ce-bc26-dab13eb99f78",
   "metadata": {},
   "source": [
    "5) Discuss the use cases of tuples and sets in python programming.\n",
    "=> Tuples can be used while working with dictionary we can use tuple in which we dont want the key value to be change.\n",
    "    \n",
    "   Sets we can use to remove duplicate items from the databse as sets doesn't allow duplicate items."
   ]
  },
  {
   "cell_type": "code",
   "execution_count": 17,
   "id": "c3146a2f-4570-4e6d-81ae-551cdd9e4424",
   "metadata": {},
   "outputs": [
    {
     "name": "stdout",
     "output_type": "stream",
     "text": [
      "['grape', 'banana', 'apple', 'orange']\n"
     ]
    }
   ],
   "source": [
    "# List with duplicate entries\n",
    "data = ['apple', 'banana', 'apple', 'orange', 'banana', 'grape']\n",
    "\n",
    "# Using set to remove duplicates\n",
    "uniquedata = list(set(data))\n",
    "\n",
    "print(uniquedata)  \n"
   ]
  },
  {
   "cell_type": "raw",
   "id": "1d4d9858-d7e2-4e5a-bdb1-40561ff3950d",
   "metadata": {},
   "source": [
    "6) Discuss the key features of sets and provide example of their use.\n",
    "=> Some key features of sets are:-\n",
    "        Uniqueness: The most famous feature of sets is that sets in python removes duplicates automatically\n",
    "        Efficient Member Testing: Sets provide average O(1) time complexity for membership tests.\n",
    "        Set Operations: Sets support operations like union, intersection, difference, and symmetric difference."
   ]
  },
  {
   "cell_type": "code",
   "execution_count": 18,
   "id": "b02050ec-98e3-4bdc-be3b-bd54dba640ff",
   "metadata": {},
   "outputs": [
    {
     "name": "stdout",
     "output_type": "stream",
     "text": [
      "{1, 2, 3, 4, 5}\n"
     ]
    }
   ],
   "source": [
    "#UNIQUENESS\n",
    "set1 = {1, 2, 2, 3, 4, 4, 5}\n",
    "print(set1)"
   ]
  },
  {
   "cell_type": "code",
   "execution_count": 21,
   "id": "8245836e-c9e6-4f87-be03-5f6dc233f808",
   "metadata": {},
   "outputs": [
    {
     "name": "stdout",
     "output_type": "stream",
     "text": [
      "True\n",
      "False\n"
     ]
    }
   ],
   "source": [
    "#Efficient Member Testing\n",
    "\n",
    "set2 = {'apple', 'banana', 'cherry'}\n",
    "\n",
    "# Membership testing\n",
    "print('banana' in set2)  \n",
    "print('orange' in set2)  \n"
   ]
  },
  {
   "cell_type": "code",
   "execution_count": 22,
   "id": "0af3f6c9-b26d-498f-8152-530564e20d6c",
   "metadata": {},
   "outputs": [
    {
     "name": "stdout",
     "output_type": "stream",
     "text": [
      "{1, 2, 3, 4, 5}\n"
     ]
    }
   ],
   "source": [
    "# Set Operations\n",
    "set_a = {1, 2, 3}\n",
    "set_b = {3, 4, 5}\n",
    "\n",
    "union = set_a | set_b\n",
    "print(union) "
   ]
  },
  {
   "cell_type": "raw",
   "id": "16cc5dbf-216c-449f-acfb-0cc1a231fd69",
   "metadata": {},
   "source": [
    "7) Describe how to access,modify and delete elements in  Dictionary with examples.\n",
    "=> Lets understand this with examples:-"
   ]
  },
  {
   "cell_type": "code",
   "execution_count": 24,
   "id": "4f17c75a-0924-46a5-895d-cbbb8125e5f8",
   "metadata": {},
   "outputs": [
    {
     "name": "stdout",
     "output_type": "stream",
     "text": [
      "{'name': 'JKL', 'department': 'HR'}\n"
     ]
    }
   ],
   "source": [
    "#ACCESS\n",
    "employee_records={\n",
    "    \"E1001\": {\"name\":\"ABC\",\"department\":\"IT\"},\n",
    "    \"E1002\": {\"name\":\"JKL\",\"department\":\"HR\"},\n",
    "    \"E1003\": {\"name\":\"GHI\",\"department\":\"M\"},\n",
    "    \"E1004\": {\"name\":\"DEF\",\"department\":\"IT\"}\n",
    "}\n",
    "print(employee_records[\"E1002\"])"
   ]
  },
  {
   "cell_type": "code",
   "execution_count": 28,
   "id": "7f1bbb45-b0b9-450f-a395-97fa0f4fa27f",
   "metadata": {},
   "outputs": [
    {
     "name": "stdout",
     "output_type": "stream",
     "text": [
      "{'E1001': {'name': 'ABC', 'department': 'IT'}, 'E1002': {'name': 'JKL', 'department': 'HR'}, 'E1003': {'name': 'GHI', 'department': 'M'}}\n"
     ]
    }
   ],
   "source": [
    "#DELETE\n",
    "employee_records.pop(\"E1004\")\n",
    "print(employee_records)"
   ]
  },
  {
   "cell_type": "code",
   "execution_count": 29,
   "id": "cdd9d5db-70cd-456a-a9c4-a47320a297ba",
   "metadata": {},
   "outputs": [
    {
     "name": "stdout",
     "output_type": "stream",
     "text": [
      "{'E1001': {'name': 'ABC', 'department': 'IT'}, 'E1002': {'name': 'JKL', 'department': 'HR'}, 'E1003': {'name': 'GHI', 'department': 'M'}, 'E1005': {'name': 'MNO', 'department': 'Finance'}}\n"
     ]
    }
   ],
   "source": [
    "#MODIFY\n",
    "employee_records[\"E1005\"] = {\"name\": \"MNO\", \"department\": \"Finance\"}\n",
    "print(employee_records)"
   ]
  },
  {
   "cell_type": "raw",
   "id": "73c51333-b718-434e-b902-cf04ab44d240",
   "metadata": {},
   "source": [
    "8) Discuss the importance of  dictionary keys being immutable.\n",
    "=> (1) If dictionary keys were mutable, their values could change over time. This would lead to inconsistency and potential    errors.\n",
    "   (2) Dictionaries in Python use hash tables for efficient data retrieval.Immutable keys ensure that the hash value remains constant throughout the lifetime of the key\n",
    "   (3) If mutable objects were allowed as keys, changes to these objects could lead to unwanted behavior in the dictionary"
   ]
  }
 ],
 "metadata": {
  "kernelspec": {
   "display_name": "Python 3 (ipykernel)",
   "language": "python",
   "name": "python3"
  },
  "language_info": {
   "codemirror_mode": {
    "name": "ipython",
    "version": 3
   },
   "file_extension": ".py",
   "mimetype": "text/x-python",
   "name": "python",
   "nbconvert_exporter": "python",
   "pygments_lexer": "ipython3",
   "version": "3.10.8"
  }
 },
 "nbformat": 4,
 "nbformat_minor": 5
}
